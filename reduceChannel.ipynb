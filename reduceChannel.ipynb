{
 "cells": [
  {
   "cell_type": "code",
   "execution_count": 1,
   "metadata": {},
   "outputs": [],
   "source": [
    "from functions import model32_all as cnn"
   ]
  },
  {
   "cell_type": "code",
   "execution_count": 2,
   "metadata": {},
   "outputs": [
    {
     "name": "stdout",
     "output_type": "stream",
     "text": [
      "INDEX:  0\n",
      "Used Channels:  32\n",
      "[0, 7, 8, 11, 12, 14, 15, 17, 18, 19, 21, 24, 27, 28, 29, 33, 35, 36, 37, 38, 44, 47, 48, 49, 51, 53, 55, 56, 58, 60]\n",
      "['9_20151028.mat', '15_20150508.mat', '1_20160518.mat', '2_20150915.mat', '5_20160406.mat', '6_20150507.mat', '8_20151103.mat', '13_20151115.mat', '7_20150715.mat', '14_20151205.mat', '11_20150916.mat', '3_20150919.mat', '4_20151111.mat', '12_20150725.mat', '10_20151014.mat']\n",
      "9_20151028.mat\n",
      "15_20150508.mat\n",
      "1_20160518.mat\n",
      "2_20150915.mat\n",
      "5_20160406.mat\n",
      "6_20150507.mat\n",
      "8_20151103.mat\n",
      "13_20151115.mat\n",
      "7_20150715.mat\n",
      "14_20151205.mat\n",
      "11_20150916.mat\n",
      "3_20150919.mat\n",
      "4_20151111.mat\n",
      "12_20150725.mat\n",
      "10_20151014.mat\n",
      "['9_20151119.mat', '2_20150920.mat', '5_20160413.mat', '15_20150514.mat', '11_20150921.mat', '3_20151018.mat', '13_20151125.mat', '8_20151110.mat', '10_20151021.mat', '6_20150511.mat', '1_20161125.mat', '12_20150804.mat', '4_20151118.mat', '14_20151208.mat', '7_20150717.mat']\n",
      "9_20151119.mat\n",
      "2_20150920.mat\n",
      "5_20160413.mat\n",
      "15_20150514.mat\n",
      "11_20150921.mat\n",
      "3_20151018.mat\n",
      "13_20151125.mat\n",
      "8_20151110.mat\n",
      "10_20151021.mat\n",
      "6_20150511.mat\n",
      "1_20161125.mat\n",
      "12_20150804.mat\n",
      "4_20151118.mat\n",
      "14_20151208.mat\n",
      "7_20150717.mat\n",
      "['1_20161126.mat', '13_20161130.mat', '11_20151011.mat', '4_20151123.mat', '2_20151012.mat', '12_20150807.mat', '3_20151101.mat', '9_20151209.mat', '15_20150527.mat', '8_20151117.mat', '10_20151023.mat', '5_20160420.mat', '6_20150512.mat', '7_20150721.mat', '14_20151215.mat']\n",
      "1_20161126.mat\n",
      "13_20161130.mat\n",
      "11_20151011.mat\n",
      "4_20151123.mat\n",
      "2_20151012.mat\n",
      "12_20150807.mat\n",
      "3_20151101.mat\n",
      "9_20151209.mat\n",
      "15_20150527.mat\n",
      "8_20151117.mat\n",
      "10_20151023.mat\n",
      "5_20160420.mat\n",
      "6_20150512.mat\n",
      "7_20150721.mat\n",
      "14_20151215.mat\n",
      "(29940, 32, 1000)\n",
      "Model: \"sequential\"\n",
      "_________________________________________________________________\n",
      " Layer (type)                Output Shape              Param #   \n",
      "=================================================================\n",
      " conv2d (Conv2D)             (None, 32, 1000, 16)      160       \n",
      "                                                                 \n",
      " max_pooling2d (MaxPooling2D  (None, 32, 200, 16)      0         \n",
      " )                                                               \n",
      "                                                                 \n",
      " conv2d_1 (Conv2D)           (None, 32, 200, 32)       4640      \n",
      "                                                                 \n",
      " max_pooling2d_1 (MaxPooling  (None, 32, 66, 32)       0         \n",
      " 2D)                                                             \n",
      "                                                                 \n",
      " conv2d_2 (Conv2D)           (None, 32, 66, 48)        13872     \n",
      "                                                                 \n",
      " max_pooling2d_2 (MaxPooling  (None, 32, 22, 48)       0         \n",
      " 2D)                                                             \n",
      "                                                                 \n",
      " conv2d_3 (Conv2D)           (None, 32, 22, 64)        27712     \n",
      "                                                                 \n",
      " max_pooling2d_3 (MaxPooling  (None, 32, 7, 64)        0         \n",
      " 2D)                                                             \n",
      "                                                                 \n",
      " conv2d_4 (Conv2D)           (None, 32, 7, 80)         46160     \n",
      "                                                                 \n",
      " max_pooling2d_4 (MaxPooling  (None, 32, 2, 80)        0         \n",
      " 2D)                                                             \n",
      "                                                                 \n",
      " flatten (Flatten)           (None, 5120)              0         \n",
      "                                                                 \n",
      " dense (Dense)               (None, 64)                327744    \n",
      "                                                                 \n",
      " dropout (Dropout)           (None, 64)                0         \n",
      "                                                                 \n",
      " dense_1 (Dense)             (None, 4)                 260       \n",
      "                                                                 \n",
      "=================================================================\n",
      "Total params: 420,548\n",
      "Trainable params: 420,548\n",
      "Non-trainable params: 0\n",
      "_________________________________________________________________\n",
      "None\n",
      "Epoch 1/80\n"
     ]
    }
   ],
   "source": [
    "cnn(0, [0,1,2])"
   ]
  }
 ],
 "metadata": {
  "kernelspec": {
   "display_name": "Python 3",
   "language": "python",
   "name": "python3"
  },
  "language_info": {
   "codemirror_mode": {
    "name": "ipython",
    "version": 3
   },
   "file_extension": ".py",
   "mimetype": "text/x-python",
   "name": "python",
   "nbconvert_exporter": "python",
   "pygments_lexer": "ipython3",
   "version": "3.10.9"
  },
  "orig_nbformat": 4,
  "vscode": {
   "interpreter": {
    "hash": "415745b1e1d61104d3af98982f98eef78a31cb72b578a8185dcea89b918bc627"
   }
  }
 },
 "nbformat": 4,
 "nbformat_minor": 2
}
