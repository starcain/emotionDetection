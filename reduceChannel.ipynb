{
 "cells": [
  {
   "cell_type": "code",
   "execution_count": 1,
   "metadata": {},
   "outputs": [],
   "source": [
    "#functions imports..\n",
    "from functions.sampling import sampling61, dirsample61\n",
    "from functions.pathlabelchannel import pathlabelchannel\n",
    "from functions.cnn import runcnn2d61"
   ]
  },
  {
   "cell_type": "code",
   "execution_count": 2,
   "metadata": {},
   "outputs": [],
   "source": [
    "#package imports..\n",
    "import numpy as np\n",
    "import pandas as pd\n",
    "from os import listdir"
   ]
  },
  {
   "cell_type": "code",
   "execution_count": 3,
   "metadata": {},
   "outputs": [],
   "source": [
    "path, label, channel = pathlabelchannel()"
   ]
  },
  {
   "cell_type": "code",
   "execution_count": 4,
   "metadata": {},
   "outputs": [
    {
     "name": "stdout",
     "output_type": "stream",
     "text": [
      "10_20151014.mat\n",
      "11_20150916.mat\n",
      "12_20150725.mat\n",
      "13_20151115.mat\n",
      "14_20151205.mat\n",
      "15_20150508.mat\n",
      "1_20160518.mat\n",
      "2_20150915.mat\n",
      "3_20150919.mat\n",
      "4_20151111.mat\n",
      "5_20160406.mat\n",
      "6_20150507.mat\n",
      "7_20150715.mat\n",
      "8_20151103.mat\n",
      "9_20151028.mat\n"
     ]
    }
   ],
   "source": [
    "sample, hotkey = dirsample61(path[0], label[0], channel)"
   ]
  },
  {
   "cell_type": "code",
   "execution_count": null,
   "metadata": {},
   "outputs": [],
   "source": []
  }
 ],
 "metadata": {
  "kernelspec": {
   "display_name": "Python 3",
   "language": "python",
   "name": "python3"
  },
  "language_info": {
   "codemirror_mode": {
    "name": "ipython",
    "version": 3
   },
   "file_extension": ".py",
   "mimetype": "text/x-python",
   "name": "python",
   "nbconvert_exporter": "python",
   "pygments_lexer": "ipython3",
   "version": "3.10.9"
  },
  "orig_nbformat": 4,
  "vscode": {
   "interpreter": {
    "hash": "415745b1e1d61104d3af98982f98eef78a31cb72b578a8185dcea89b918bc627"
   }
  }
 },
 "nbformat": 4,
 "nbformat_minor": 2
}
