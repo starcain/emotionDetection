{
 "cells": [
  {
   "cell_type": "code",
   "execution_count": 1,
   "metadata": {},
   "outputs": [],
   "source": [
    "#functions imports..\n",
    "from functions.sampling import dirsample61\n",
    "from functions.pathlabelchannel import pathlabelchannel\n",
    "from functions.cnn import runcnn2d61"
   ]
  },
  {
   "cell_type": "code",
   "execution_count": 2,
   "metadata": {},
   "outputs": [],
   "source": [
    "#package imports..\n",
    "import numpy as np"
   ]
  },
  {
   "cell_type": "code",
   "execution_count": 3,
   "metadata": {},
   "outputs": [],
   "source": [
    "path, label, channel = pathlabelchannel()"
   ]
  },
  {
   "cell_type": "code",
   "execution_count": 4,
   "metadata": {},
   "outputs": [
    {
     "name": "stdout",
     "output_type": "stream",
     "text": [
      "10_20151014.mat\n",
      "11_20150916.mat\n",
      "12_20150725.mat\n",
      "13_20151115.mat\n",
      "14_20151205.mat\n",
      "15_20150508.mat\n",
      "1_20160518.mat\n",
      "2_20150915.mat\n",
      "3_20150919.mat\n",
      "4_20151111.mat\n",
      "5_20160406.mat\n",
      "6_20150507.mat\n",
      "7_20150715.mat\n",
      "8_20151103.mat\n",
      "9_20151028.mat\n"
     ]
    }
   ],
   "source": [
    "sample, hotkey = dirsample61(path[0], label[0], channel, 2)"
   ]
  },
  {
   "cell_type": "code",
   "execution_count": 5,
   "metadata": {},
   "outputs": [
    {
     "name": "stdout",
     "output_type": "stream",
     "text": [
      "Model: \"sequential\"\n",
      "_________________________________________________________________\n",
      " Layer (type)                Output Shape              Param #   \n",
      "=================================================================\n",
      " conv2d (Conv2D)             (None, 61, 1000, 16)      160       \n",
      "                                                                 \n",
      " max_pooling2d (MaxPooling2D  (None, 30, 200, 16)      0         \n",
      " )                                                               \n",
      "                                                                 \n",
      " conv2d_1 (Conv2D)           (None, 30, 200, 32)       4640      \n",
      "                                                                 \n",
      " max_pooling2d_1 (MaxPooling  (None, 15, 66, 32)       0         \n",
      " 2D)                                                             \n",
      "                                                                 \n",
      " conv2d_2 (Conv2D)           (None, 15, 66, 48)        13872     \n",
      "                                                                 \n",
      " max_pooling2d_2 (MaxPooling  (None, 7, 22, 48)        0         \n",
      " 2D)                                                             \n",
      "                                                                 \n",
      " conv2d_3 (Conv2D)           (None, 7, 22, 64)         27712     \n",
      "                                                                 \n",
      " max_pooling2d_3 (MaxPooling  (None, 3, 7, 64)         0         \n",
      " 2D)                                                             \n",
      "                                                                 \n",
      " conv2d_4 (Conv2D)           (None, 3, 7, 80)          46160     \n",
      "                                                                 \n",
      " max_pooling2d_4 (MaxPooling  (None, 1, 2, 80)         0         \n",
      " 2D)                                                             \n",
      "                                                                 \n",
      " flatten (Flatten)           (None, 160)               0         \n",
      "                                                                 \n",
      " dense (Dense)               (None, 64)                10304     \n",
      "                                                                 \n",
      " dense_1 (Dense)             (None, 4)                 260       \n",
      "                                                                 \n",
      "=================================================================\n",
      "Total params: 103,108\n",
      "Trainable params: 103,108\n",
      "Non-trainable params: 0\n",
      "_________________________________________________________________\n",
      "None\n",
      "Epoch 1/80\n",
      "254/254 [==============================] - 100s 379ms/step - loss: 1.4488 - accuracy: 0.2995 - val_loss: 1.3737 - val_accuracy: 0.3092\n",
      "Epoch 2/80\n",
      "254/254 [==============================] - 92s 363ms/step - loss: 1.3624 - accuracy: 0.3277 - val_loss: 1.3643 - val_accuracy: 0.3146\n",
      "Epoch 3/80\n",
      "254/254 [==============================] - 90s 353ms/step - loss: 1.3810 - accuracy: 0.3401 - val_loss: 1.3140 - val_accuracy: 0.3796\n",
      "Epoch 4/80\n",
      "254/254 [==============================] - 88s 346ms/step - loss: 1.3299 - accuracy: 0.3657 - val_loss: 1.3430 - val_accuracy: 0.3520\n",
      "Epoch 5/80\n",
      "254/254 [==============================] - 89s 352ms/step - loss: 1.2987 - accuracy: 0.3908 - val_loss: 1.2776 - val_accuracy: 0.4141\n",
      "Epoch 6/80\n",
      "254/254 [==============================] - 85s 335ms/step - loss: 1.2673 - accuracy: 0.4263 - val_loss: 1.2907 - val_accuracy: 0.4092\n",
      "Epoch 7/80\n",
      "254/254 [==============================] - 84s 332ms/step - loss: 1.2468 - accuracy: 0.4289 - val_loss: 1.3286 - val_accuracy: 0.4451\n",
      "Epoch 8/80\n",
      "254/254 [==============================] - 87s 341ms/step - loss: 1.2545 - accuracy: 0.4303 - val_loss: 1.2826 - val_accuracy: 0.4151\n",
      "Epoch 9/80\n",
      "254/254 [==============================] - 86s 340ms/step - loss: 1.3077 - accuracy: 0.3736 - val_loss: 1.3678 - val_accuracy: 0.3008\n",
      "Epoch 10/80\n",
      "254/254 [==============================] - 87s 345ms/step - loss: 1.3530 - accuracy: 0.3384 - val_loss: 1.3530 - val_accuracy: 0.3520\n",
      "Epoch 11/80\n",
      "254/254 [==============================] - 87s 342ms/step - loss: 1.3118 - accuracy: 0.3860 - val_loss: 1.3152 - val_accuracy: 0.3796\n",
      "Epoch 12/80\n",
      "254/254 [==============================] - 87s 341ms/step - loss: 1.2852 - accuracy: 0.4055 - val_loss: 1.2948 - val_accuracy: 0.4087\n",
      "Epoch 13/80\n",
      "254/254 [==============================] - 88s 345ms/step - loss: 1.2408 - accuracy: 0.4341 - val_loss: 1.2598 - val_accuracy: 0.4289\n",
      "Epoch 14/80\n",
      "254/254 [==============================] - 89s 349ms/step - loss: 1.2093 - accuracy: 0.4569 - val_loss: 1.2730 - val_accuracy: 0.3934\n",
      "Epoch 15/80\n",
      "254/254 [==============================] - 85s 336ms/step - loss: 1.2129 - accuracy: 0.4644 - val_loss: 1.2632 - val_accuracy: 0.4348\n",
      "Epoch 16/80\n",
      "254/254 [==============================] - 86s 339ms/step - loss: 1.1946 - accuracy: 0.4690 - val_loss: 1.2539 - val_accuracy: 0.4609\n",
      "Epoch 17/80\n",
      "254/254 [==============================] - 82s 325ms/step - loss: 1.1835 - accuracy: 0.4924 - val_loss: 1.2680 - val_accuracy: 0.4554\n",
      "Epoch 18/80\n",
      "254/254 [==============================] - 82s 325ms/step - loss: 1.2165 - accuracy: 0.4785 - val_loss: 1.2656 - val_accuracy: 0.4564\n",
      "Epoch 19/80\n",
      "254/254 [==============================] - 83s 327ms/step - loss: 1.1462 - accuracy: 0.4935 - val_loss: 1.2560 - val_accuracy: 0.4850\n",
      "Epoch 20/80\n",
      "254/254 [==============================] - ETA: 0s - loss: 1.1669 - accuracy: 0.5007"
     ]
    }
   ],
   "source": [
    "model = runcnn2d61(sample, hotkey, 0.8, batch=32, epoch=80, channel=61)"
   ]
  }
 ],
 "metadata": {
  "kernelspec": {
   "display_name": "Python 3",
   "language": "python",
   "name": "python3"
  },
  "language_info": {
   "codemirror_mode": {
    "name": "ipython",
    "version": 3
   },
   "file_extension": ".py",
   "mimetype": "text/x-python",
   "name": "python",
   "nbconvert_exporter": "python",
   "pygments_lexer": "ipython3",
   "version": "3.10.9"
  },
  "orig_nbformat": 4,
  "vscode": {
   "interpreter": {
    "hash": "415745b1e1d61104d3af98982f98eef78a31cb72b578a8185dcea89b918bc627"
   }
  }
 },
 "nbformat": 4,
 "nbformat_minor": 2
}
