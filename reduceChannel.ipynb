{
 "cells": [
  {
   "cell_type": "code",
   "execution_count": 1,
   "metadata": {},
   "outputs": [],
   "source": [
    "from functions import cnnmodel"
   ]
  },
  {
   "cell_type": "code",
   "execution_count": 2,
   "metadata": {},
   "outputs": [
    {
     "name": "stdout",
     "output_type": "stream",
     "text": [
      "[51, 52]\n",
      "['2_20150915.mat', '6_20150507.mat', '13_20151115.mat', '4_20151111.mat', '9_20151028.mat', '12_20150725.mat', '8_20151103.mat', '5_20160406.mat', '10_20151014.mat', '3_20150919.mat', '14_20151205.mat', '7_20150715.mat', '15_20150508.mat', '11_20150916.mat', '1_20160518.mat']\n",
      "2_20150915.mat\n",
      "6_20150507.mat\n",
      "13_20151115.mat\n",
      "4_20151111.mat\n",
      "9_20151028.mat\n",
      "12_20150725.mat\n",
      "8_20151103.mat\n",
      "5_20160406.mat\n",
      "10_20151014.mat\n",
      "3_20150919.mat\n",
      "14_20151205.mat\n",
      "7_20150715.mat\n",
      "15_20150508.mat\n",
      "11_20150916.mat\n",
      "1_20160518.mat\n",
      "(10155, 60, 1000) (10155, 4)\n",
      "Model: \"sequential\"\n",
      "_________________________________________________________________\n",
      " Layer (type)                Output Shape              Param #   \n",
      "=================================================================\n",
      " conv2d (Conv2D)             (None, 60, 1000, 16)      160       \n",
      "                                                                 \n",
      " max_pooling2d (MaxPooling2D  (None, 60, 200, 16)      0         \n",
      " )                                                               \n",
      "                                                                 \n",
      " conv2d_1 (Conv2D)           (None, 60, 200, 32)       4640      \n",
      "                                                                 \n",
      " max_pooling2d_1 (MaxPooling  (None, 60, 66, 32)       0         \n",
      " 2D)                                                             \n",
      "                                                                 \n",
      " conv2d_2 (Conv2D)           (None, 60, 66, 48)        13872     \n",
      "                                                                 \n",
      " max_pooling2d_2 (MaxPooling  (None, 60, 22, 48)       0         \n",
      " 2D)                                                             \n",
      "                                                                 \n",
      " conv2d_3 (Conv2D)           (None, 60, 22, 64)        27712     \n",
      "                                                                 \n",
      " max_pooling2d_3 (MaxPooling  (None, 60, 7, 64)        0         \n",
      " 2D)                                                             \n",
      "                                                                 \n",
      " conv2d_4 (Conv2D)           (None, 60, 7, 80)         46160     \n",
      "                                                                 \n",
      " max_pooling2d_4 (MaxPooling  (None, 60, 2, 80)        0         \n",
      " 2D)                                                             \n",
      "                                                                 \n",
      " flatten (Flatten)           (None, 9600)              0         \n",
      "                                                                 \n",
      " dense (Dense)               (None, 64)                614464    \n",
      "                                                                 \n",
      " dropout (Dropout)           (None, 64)                0         \n",
      "                                                                 \n",
      " dense_1 (Dense)             (None, 4)                 260       \n",
      "                                                                 \n",
      "=================================================================\n",
      "Total params: 707,268\n",
      "Trainable params: 707,268\n",
      "Non-trainable params: 0\n",
      "_________________________________________________________________\n",
      "None\n",
      "Epoch 1/80\n"
     ]
    }
   ],
   "source": [
    "cnnmodel(51)"
   ]
  },
  {
   "cell_type": "code",
   "execution_count": null,
   "metadata": {},
   "outputs": [],
   "source": [
    "cnnmodel(52)"
   ]
  },
  {
   "cell_type": "code",
   "execution_count": null,
   "metadata": {},
   "outputs": [],
   "source": [
    "cnnmodel(53)"
   ]
  },
  {
   "cell_type": "code",
   "execution_count": null,
   "metadata": {},
   "outputs": [],
   "source": [
    "cnnmodel(54)"
   ]
  },
  {
   "cell_type": "code",
   "execution_count": null,
   "metadata": {},
   "outputs": [],
   "source": [
    "cnnmodel(55)"
   ]
  },
  {
   "cell_type": "code",
   "execution_count": null,
   "metadata": {},
   "outputs": [],
   "source": []
  }
 ],
 "metadata": {
  "kernelspec": {
   "display_name": "Python 3",
   "language": "python",
   "name": "python3"
  },
  "language_info": {
   "codemirror_mode": {
    "name": "ipython",
    "version": 3
   },
   "file_extension": ".py",
   "mimetype": "text/x-python",
   "name": "python",
   "nbconvert_exporter": "python",
   "pygments_lexer": "ipython3",
   "version": "3.10.9"
  },
  "orig_nbformat": 4,
  "vscode": {
   "interpreter": {
    "hash": "415745b1e1d61104d3af98982f98eef78a31cb72b578a8185dcea89b918bc627"
   }
  }
 },
 "nbformat": 4,
 "nbformat_minor": 2
}
