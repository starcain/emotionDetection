{
 "cells": [
  {
   "cell_type": "code",
   "execution_count": 1,
   "metadata": {},
   "outputs": [],
   "source": [
    "from functions import model10_all as cnn"
   ]
  },
  {
   "cell_type": "code",
   "execution_count": 2,
   "metadata": {},
   "outputs": [],
   "source": [
    "from functions import remainingChannels as rc"
   ]
  },
  {
   "cell_type": "code",
   "execution_count": 3,
   "metadata": {},
   "outputs": [
    {
     "name": "stdout",
     "output_type": "stream",
     "text": [
      "[2, 13, 16, 20, 23, 25, 41, 43, 45, 50, 54]\n"
     ]
    }
   ],
   "source": [
    "print(rc)"
   ]
  },
  {
   "cell_type": "code",
   "execution_count": 4,
   "metadata": {},
   "outputs": [
    {
     "name": "stdout",
     "output_type": "stream",
     "text": [
      "INDEX:  2\n",
      "Path Index:  [0, 1, 2]\n",
      "Used Channels:  10\n",
      "[0, 1, 2, 3, 4, 5, 6, 7, 8, 9, 10, 11, 12, 14, 15, 17, 18, 19, 21, 22, 24, 26, 27, 28, 29, 30, 31, 32, 33, 34, 35, 36, 37, 38, 39, 40, 42, 44, 46, 47, 48, 49, 51, 52, 53, 55, 56, 57, 58, 59, 60, 61]\n",
      "['14_20151205.mat', '13_20151115.mat', '11_20150916.mat', '10_20151014.mat', '2_20150915.mat', '6_20150507.mat', '7_20150715.mat', '5_20160406.mat', '4_20151111.mat', '9_20151028.mat', '12_20150725.mat', '3_20150919.mat', '15_20150508.mat', '1_20160518.mat', '8_20151103.mat']\n",
      "14_20151205.mat\n",
      "13_20151115.mat\n",
      "11_20150916.mat\n",
      "10_20151014.mat\n",
      "2_20150915.mat\n",
      "6_20150507.mat\n",
      "7_20150715.mat\n",
      "5_20160406.mat\n",
      "4_20151111.mat\n",
      "9_20151028.mat\n",
      "12_20150725.mat\n",
      "3_20150919.mat\n",
      "15_20150508.mat\n",
      "1_20160518.mat\n",
      "8_20151103.mat\n",
      "(10155, 10, 1000)\n",
      "['1_20161125.mat', '13_20151125.mat', '2_20150920.mat', '15_20150514.mat', '9_20151119.mat', '6_20150511.mat', '5_20160413.mat', '7_20150717.mat', '11_20150921.mat', '3_20151018.mat', '14_20151208.mat', '4_20151118.mat', '8_20151110.mat', '12_20150804.mat', '10_20151021.mat']\n",
      "1_20161125.mat\n",
      "13_20151125.mat\n",
      "2_20150920.mat\n",
      "15_20150514.mat\n",
      "9_20151119.mat\n",
      "6_20150511.mat\n",
      "5_20160413.mat\n",
      "7_20150717.mat\n",
      "11_20150921.mat\n",
      "3_20151018.mat\n",
      "14_20151208.mat\n",
      "4_20151118.mat\n",
      "8_20151110.mat\n",
      "12_20150804.mat\n",
      "10_20151021.mat\n",
      "(20100, 10, 1000)\n",
      "['6_20150512.mat', '7_20150721.mat', '14_20151215.mat', '12_20150807.mat', '8_20151117.mat', '9_20151209.mat', '1_20161126.mat', '10_20151023.mat', '5_20160420.mat', '11_20151011.mat', '15_20150527.mat', '4_20151123.mat', '2_20151012.mat', '3_20151101.mat', '13_20161130.mat']\n",
      "6_20150512.mat\n",
      "7_20150721.mat\n",
      "14_20151215.mat\n",
      "12_20150807.mat\n",
      "8_20151117.mat\n",
      "9_20151209.mat\n",
      "1_20161126.mat\n",
      "10_20151023.mat\n",
      "5_20160420.mat\n",
      "11_20151011.mat\n",
      "15_20150527.mat\n",
      "4_20151123.mat\n",
      "2_20151012.mat\n",
      "3_20151101.mat\n",
      "13_20161130.mat\n",
      "(29940, 10, 1000)\n",
      "(29940, 10, 1000)\n",
      "Model: \"sequential\"\n",
      "_________________________________________________________________\n",
      " Layer (type)                Output Shape              Param #   \n",
      "=================================================================\n",
      " conv2d (Conv2D)             (None, 10, 1000, 16)      160       \n",
      "                                                                 \n",
      " max_pooling2d (MaxPooling2D  (None, 10, 200, 16)      0         \n",
      " )                                                               \n",
      "                                                                 \n",
      " conv2d_1 (Conv2D)           (None, 10, 200, 32)       4640      \n",
      "                                                                 \n",
      " max_pooling2d_1 (MaxPooling  (None, 10, 66, 32)       0         \n",
      " 2D)                                                             \n",
      "                                                                 \n",
      " conv2d_2 (Conv2D)           (None, 10, 66, 48)        13872     \n",
      "                                                                 \n",
      " max_pooling2d_2 (MaxPooling  (None, 10, 22, 48)       0         \n",
      " 2D)                                                             \n",
      "                                                                 \n",
      " conv2d_3 (Conv2D)           (None, 10, 22, 64)        27712     \n",
      "                                                                 \n",
      " max_pooling2d_3 (MaxPooling  (None, 10, 7, 64)        0         \n",
      " 2D)                                                             \n",
      "                                                                 \n",
      " conv2d_4 (Conv2D)           (None, 10, 7, 80)         46160     \n",
      "                                                                 \n",
      " max_pooling2d_4 (MaxPooling  (None, 10, 2, 80)        0         \n",
      " 2D)                                                             \n",
      "                                                                 \n",
      " flatten (Flatten)           (None, 1600)              0         \n",
      "                                                                 \n",
      " dense (Dense)               (None, 64)                102464    \n",
      "                                                                 \n",
      " dropout (Dropout)           (None, 64)                0         \n",
      "                                                                 \n",
      " dense_1 (Dense)             (None, 4)                 260       \n",
      "                                                                 \n",
      "=================================================================\n",
      "Total params: 195,268\n",
      "Trainable params: 195,268\n",
      "Non-trainable params: 0\n",
      "_________________________________________________________________\n",
      "None\n",
      "Epoch 1/80\n",
      "702/702 [==============================] - 101s 141ms/step - loss: 1.4737 - accuracy: 0.2730 - val_loss: 1.4251 - val_accuracy: 0.2834\n",
      "Epoch 2/80\n",
      "702/702 [==============================] - 92s 131ms/step - loss: 1.4188 - accuracy: 0.2758 - val_loss: 1.4039 - val_accuracy: 0.2693\n",
      "Epoch 3/80\n",
      "702/702 [==============================] - 99s 140ms/step - loss: 1.3981 - accuracy: 0.2965 - val_loss: 1.3716 - val_accuracy: 0.3340\n",
      "Epoch 4/80\n",
      "702/702 [==============================] - 98s 140ms/step - loss: 1.3717 - accuracy: 0.3271 - val_loss: 1.3532 - val_accuracy: 0.3462\n",
      "Epoch 5/80\n",
      "702/702 [==============================] - 94s 134ms/step - loss: 1.3598 - accuracy: 0.3446 - val_loss: 1.3360 - val_accuracy: 0.3682\n",
      "Epoch 6/80\n",
      "702/702 [==============================] - 94s 134ms/step - loss: 1.3464 - accuracy: 0.3537 - val_loss: 1.3274 - val_accuracy: 0.3770\n",
      "Epoch 7/80\n",
      "702/702 [==============================] - 100s 142ms/step - loss: 1.3353 - accuracy: 0.3699 - val_loss: 1.3107 - val_accuracy: 0.3959\n",
      "Epoch 8/80\n",
      "702/702 [==============================] - ETA: 0s - loss: 1.3267 - accuracy: 0.3831"
     ]
    }
   ],
   "source": [
    "cnn(2)"
   ]
  },
  {
   "cell_type": "code",
   "execution_count": null,
   "metadata": {},
   "outputs": [],
   "source": [
    "cnn(13)"
   ]
  },
  {
   "cell_type": "code",
   "execution_count": null,
   "metadata": {},
   "outputs": [],
   "source": [
    "cnn(16)"
   ]
  },
  {
   "cell_type": "code",
   "execution_count": null,
   "metadata": {},
   "outputs": [],
   "source": [
    "cnn(20)"
   ]
  },
  {
   "cell_type": "code",
   "execution_count": null,
   "metadata": {},
   "outputs": [],
   "source": [
    "cnn(23)"
   ]
  },
  {
   "cell_type": "code",
   "execution_count": null,
   "metadata": {},
   "outputs": [],
   "source": [
    "cnn(25)"
   ]
  },
  {
   "cell_type": "code",
   "execution_count": null,
   "metadata": {},
   "outputs": [],
   "source": [
    "cnn(41)"
   ]
  },
  {
   "cell_type": "code",
   "execution_count": null,
   "metadata": {},
   "outputs": [],
   "source": [
    "cnn(43)"
   ]
  },
  {
   "cell_type": "code",
   "execution_count": null,
   "metadata": {},
   "outputs": [],
   "source": [
    "cnn(45)"
   ]
  },
  {
   "cell_type": "code",
   "execution_count": null,
   "metadata": {},
   "outputs": [],
   "source": [
    "cnn(50)"
   ]
  },
  {
   "cell_type": "code",
   "execution_count": null,
   "metadata": {},
   "outputs": [],
   "source": [
    "cnn(54)"
   ]
  }
 ],
 "metadata": {
  "kernelspec": {
   "display_name": "Python 3",
   "language": "python",
   "name": "python3"
  },
  "language_info": {
   "codemirror_mode": {
    "name": "ipython",
    "version": 3
   },
   "file_extension": ".py",
   "mimetype": "text/x-python",
   "name": "python",
   "nbconvert_exporter": "python",
   "pygments_lexer": "ipython3",
   "version": "3.10.9"
  },
  "orig_nbformat": 4,
  "vscode": {
   "interpreter": {
    "hash": "415745b1e1d61104d3af98982f98eef78a31cb72b578a8185dcea89b918bc627"
   }
  }
 },
 "nbformat": 4,
 "nbformat_minor": 2
}
