{
 "cells": [
  {
   "cell_type": "code",
   "execution_count": 1,
   "metadata": {},
   "outputs": [],
   "source": [
    "from os import listdir"
   ]
  },
  {
   "cell_type": "code",
   "execution_count": 2,
   "metadata": {},
   "outputs": [],
   "source": [
    "path = 'D:/project/eeg_feature_smooth/eeg_feature_smooth/1/'"
   ]
  },
  {
   "cell_type": "code",
   "execution_count": 4,
   "metadata": {},
   "outputs": [],
   "source": [
    "files = listdir(path)"
   ]
  },
  {
   "cell_type": "code",
   "execution_count": 5,
   "metadata": {},
   "outputs": [],
   "source": [
    "from scipy.io import loadmat"
   ]
  },
  {
   "cell_type": "code",
   "execution_count": 7,
   "metadata": {},
   "outputs": [],
   "source": [
    "matfile = loadmat(path + files[0])"
   ]
  },
  {
   "cell_type": "code",
   "execution_count": 10,
   "metadata": {},
   "outputs": [],
   "source": [
    "import numpy as np"
   ]
  },
  {
   "cell_type": "code",
   "execution_count": 14,
   "metadata": {},
   "outputs": [],
   "source": [
    "keys = list(matfile.keys())"
   ]
  },
  {
   "cell_type": "code",
   "execution_count": 16,
   "metadata": {},
   "outputs": [
    {
     "name": "stdout",
     "output_type": "stream",
     "text": [
      "de_movingAve1 (62, 42, 5)\n",
      "de_LDS1 (62, 42, 5)\n",
      "psd_movingAve1 (62, 42, 5)\n",
      "psd_LDS1 (62, 42, 5)\n",
      "de_movingAve2 (62, 23, 5)\n",
      "de_LDS2 (62, 23, 5)\n",
      "psd_movingAve2 (62, 23, 5)\n",
      "psd_LDS2 (62, 23, 5)\n",
      "de_movingAve3 (62, 49, 5)\n",
      "de_LDS3 (62, 49, 5)\n",
      "psd_movingAve3 (62, 49, 5)\n",
      "psd_LDS3 (62, 49, 5)\n",
      "de_movingAve4 (62, 32, 5)\n",
      "de_LDS4 (62, 32, 5)\n",
      "psd_movingAve4 (62, 32, 5)\n",
      "psd_LDS4 (62, 32, 5)\n",
      "de_movingAve5 (62, 22, 5)\n",
      "de_LDS5 (62, 22, 5)\n",
      "psd_movingAve5 (62, 22, 5)\n",
      "psd_LDS5 (62, 22, 5)\n",
      "de_movingAve6 (62, 40, 5)\n",
      "de_LDS6 (62, 40, 5)\n",
      "psd_movingAve6 (62, 40, 5)\n",
      "psd_LDS6 (62, 40, 5)\n",
      "de_movingAve7 (62, 38, 5)\n",
      "de_LDS7 (62, 38, 5)\n",
      "psd_movingAve7 (62, 38, 5)\n",
      "psd_LDS7 (62, 38, 5)\n",
      "de_movingAve8 (62, 52, 5)\n",
      "de_LDS8 (62, 52, 5)\n",
      "psd_movingAve8 (62, 52, 5)\n",
      "psd_LDS8 (62, 52, 5)\n",
      "de_movingAve9 (62, 36, 5)\n",
      "de_LDS9 (62, 36, 5)\n",
      "psd_movingAve9 (62, 36, 5)\n",
      "psd_LDS9 (62, 36, 5)\n",
      "de_movingAve10 (62, 42, 5)\n",
      "de_LDS10 (62, 42, 5)\n",
      "psd_movingAve10 (62, 42, 5)\n",
      "psd_LDS10 (62, 42, 5)\n",
      "de_movingAve11 (62, 12, 5)\n",
      "de_LDS11 (62, 12, 5)\n",
      "psd_movingAve11 (62, 12, 5)\n",
      "psd_LDS11 (62, 12, 5)\n",
      "de_movingAve12 (62, 27, 5)\n",
      "de_LDS12 (62, 27, 5)\n",
      "psd_movingAve12 (62, 27, 5)\n",
      "psd_LDS12 (62, 27, 5)\n",
      "de_movingAve13 (62, 54, 5)\n",
      "de_LDS13 (62, 54, 5)\n",
      "psd_movingAve13 (62, 54, 5)\n",
      "psd_LDS13 (62, 54, 5)\n",
      "de_movingAve14 (62, 42, 5)\n",
      "de_LDS14 (62, 42, 5)\n",
      "psd_movingAve14 (62, 42, 5)\n",
      "psd_LDS14 (62, 42, 5)\n",
      "de_movingAve15 (62, 64, 5)\n",
      "de_LDS15 (62, 64, 5)\n",
      "psd_movingAve15 (62, 64, 5)\n",
      "psd_LDS15 (62, 64, 5)\n",
      "de_movingAve16 (62, 35, 5)\n",
      "de_LDS16 (62, 35, 5)\n",
      "psd_movingAve16 (62, 35, 5)\n",
      "psd_LDS16 (62, 35, 5)\n",
      "de_movingAve17 (62, 17, 5)\n",
      "de_LDS17 (62, 17, 5)\n",
      "psd_movingAve17 (62, 17, 5)\n",
      "psd_LDS17 (62, 17, 5)\n",
      "de_movingAve18 (62, 44, 5)\n",
      "de_LDS18 (62, 44, 5)\n",
      "psd_movingAve18 (62, 44, 5)\n",
      "psd_LDS18 (62, 44, 5)\n",
      "de_movingAve19 (62, 35, 5)\n",
      "de_LDS19 (62, 35, 5)\n",
      "psd_movingAve19 (62, 35, 5)\n",
      "psd_LDS19 (62, 35, 5)\n",
      "de_movingAve20 (62, 12, 5)\n",
      "de_LDS20 (62, 12, 5)\n",
      "psd_movingAve20 (62, 12, 5)\n",
      "psd_LDS20 (62, 12, 5)\n",
      "de_movingAve21 (62, 28, 5)\n",
      "de_LDS21 (62, 28, 5)\n",
      "psd_movingAve21 (62, 28, 5)\n",
      "psd_LDS21 (62, 28, 5)\n",
      "de_movingAve22 (62, 28, 5)\n",
      "de_LDS22 (62, 28, 5)\n",
      "psd_movingAve22 (62, 28, 5)\n",
      "psd_LDS22 (62, 28, 5)\n",
      "de_movingAve23 (62, 43, 5)\n",
      "de_LDS23 (62, 43, 5)\n",
      "psd_movingAve23 (62, 43, 5)\n",
      "psd_LDS23 (62, 43, 5)\n",
      "de_movingAve24 (62, 34, 5)\n",
      "de_LDS24 (62, 34, 5)\n",
      "psd_movingAve24 (62, 34, 5)\n",
      "psd_LDS24 (62, 34, 5)\n"
     ]
    }
   ],
   "source": [
    "for key in keys[3:]:\n",
    "    print(key, np.shape(matfile[key]))"
   ]
  }
 ],
 "metadata": {
  "kernelspec": {
   "display_name": "Python 3",
   "language": "python",
   "name": "python3"
  },
  "language_info": {
   "codemirror_mode": {
    "name": "ipython",
    "version": 3
   },
   "file_extension": ".py",
   "mimetype": "text/x-python",
   "name": "python",
   "nbconvert_exporter": "python",
   "pygments_lexer": "ipython3",
   "version": "3.10.9"
  },
  "orig_nbformat": 4,
  "vscode": {
   "interpreter": {
    "hash": "415745b1e1d61104d3af98982f98eef78a31cb72b578a8185dcea89b918bc627"
   }
  }
 },
 "nbformat": 4,
 "nbformat_minor": 2
}
