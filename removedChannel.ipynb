{
 "cells": [
  {
   "cell_type": "code",
   "execution_count": 1,
   "metadata": {},
   "outputs": [],
   "source": [
    "from functions import model12_all as cnn"
   ]
  },
  {
   "cell_type": "code",
   "execution_count": 2,
   "metadata": {},
   "outputs": [],
   "source": [
    "with open('chnl.txt') as f:\n",
    "    lines = f.read().splitlines()\n",
    "    A = [int(x) for x in lines]"
   ]
  },
  {
   "cell_type": "code",
   "execution_count": 3,
   "metadata": {},
   "outputs": [
    {
     "name": "stdout",
     "output_type": "stream",
     "text": [
      "1  :(\n",
      "3  :(\n",
      "4  :(\n",
      "5  :(\n",
      "6  :(\n",
      "7  :(\n",
      "8  :(\n",
      "9  :(\n",
      "10  :(\n",
      "11  :(\n",
      "12  :(\n",
      "14  :(\n",
      "15  :(\n",
      "17  :(\n",
      "18  :(\n",
      "19  :(\n",
      "21  :(\n",
      "22  :(\n",
      "24  :(\n",
      "26  :(\n",
      "27  :(\n",
      "28  :(\n",
      "29  :(\n",
      "30  :(\n",
      "31  :(\n",
      "32  :(\n",
      "33  :(\n",
      "34  :(\n",
      "35  :(\n",
      "36  :(\n",
      "37  :(\n",
      "38  :(\n",
      "39  :(\n",
      "40  :(\n",
      "42  :(\n",
      "44  :(\n",
      "46  :(\n",
      "47  :(\n",
      "48  :(\n",
      "49  :(\n",
      "51  :(\n",
      "52  :(\n",
      "53  :(\n",
      "55  :(\n",
      "56  :(\n",
      "57  :(\n",
      "58  :(\n",
      "59  :(\n",
      "60  :(\n"
     ]
    }
   ],
   "source": [
    "for i in A:\n",
    "    cnn(i)"
   ]
  }
 ],
 "metadata": {
  "kernelspec": {
   "display_name": "Python 3",
   "language": "python",
   "name": "python3"
  },
  "language_info": {
   "codemirror_mode": {
    "name": "ipython",
    "version": 3
   },
   "file_extension": ".py",
   "mimetype": "text/x-python",
   "name": "python",
   "nbconvert_exporter": "python",
   "pygments_lexer": "ipython3",
   "version": "3.10.9"
  },
  "orig_nbformat": 4,
  "vscode": {
   "interpreter": {
    "hash": "415745b1e1d61104d3af98982f98eef78a31cb72b578a8185dcea89b918bc627"
   }
  }
 },
 "nbformat": 4,
 "nbformat_minor": 2
}
